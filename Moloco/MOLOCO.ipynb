{
 "cells": [
  {
   "cell_type": "code",
   "execution_count": 98,
   "metadata": {},
   "outputs": [],
   "source": [
    "import pandas as pd\n",
    "import numpy as np\n",
    "from datetime import datetime"
   ]
  },
  {
   "cell_type": "code",
   "execution_count": 99,
   "metadata": {
    "scrolled": true
   },
   "outputs": [],
   "source": [
    "#Read excel file as dataframe\n",
    "df = pd.read_excel('Adops & Data Scientist Sample Data.xlsx')"
   ]
  },
  {
   "cell_type": "code",
   "execution_count": 100,
   "metadata": {},
   "outputs": [
    {
     "data": {
      "text/html": [
       "<div>\n",
       "<style scoped>\n",
       "    .dataframe tbody tr th:only-of-type {\n",
       "        vertical-align: middle;\n",
       "    }\n",
       "\n",
       "    .dataframe tbody tr th {\n",
       "        vertical-align: top;\n",
       "    }\n",
       "\n",
       "    .dataframe thead th {\n",
       "        text-align: right;\n",
       "    }\n",
       "</style>\n",
       "<table border=\"1\" class=\"dataframe\">\n",
       "  <thead>\n",
       "    <tr style=\"text-align: right;\">\n",
       "      <th></th>\n",
       "      <th>ts</th>\n",
       "      <th>user_id</th>\n",
       "      <th>country_id</th>\n",
       "      <th>site_id</th>\n",
       "    </tr>\n",
       "  </thead>\n",
       "  <tbody>\n",
       "    <tr>\n",
       "      <td>0</td>\n",
       "      <td>2019-02-01 00:01:24</td>\n",
       "      <td>LC36FC</td>\n",
       "      <td>TL6</td>\n",
       "      <td>N0OTG</td>\n",
       "    </tr>\n",
       "    <tr>\n",
       "      <td>1</td>\n",
       "      <td>2019-02-01 00:10:19</td>\n",
       "      <td>LC39B6</td>\n",
       "      <td>TL6</td>\n",
       "      <td>N0OTG</td>\n",
       "    </tr>\n",
       "    <tr>\n",
       "      <td>2</td>\n",
       "      <td>2019-02-01 00:21:50</td>\n",
       "      <td>LC3500</td>\n",
       "      <td>TL6</td>\n",
       "      <td>N0OTG</td>\n",
       "    </tr>\n",
       "    <tr>\n",
       "      <td>3</td>\n",
       "      <td>2019-02-01 00:22:50</td>\n",
       "      <td>LC374F</td>\n",
       "      <td>TL6</td>\n",
       "      <td>N0OTG</td>\n",
       "    </tr>\n",
       "    <tr>\n",
       "      <td>4</td>\n",
       "      <td>2019-02-01 00:23:44</td>\n",
       "      <td>LCC1C3</td>\n",
       "      <td>TL6</td>\n",
       "      <td>QGO3G</td>\n",
       "    </tr>\n",
       "    <tr>\n",
       "      <td>5</td>\n",
       "      <td>2019-02-01 00:24:21</td>\n",
       "      <td>LC3E1D</td>\n",
       "      <td>HVQ</td>\n",
       "      <td>GVOFK</td>\n",
       "    </tr>\n",
       "    <tr>\n",
       "      <td>6</td>\n",
       "      <td>2019-02-01 00:25:29</td>\n",
       "      <td>LC3561</td>\n",
       "      <td>TL6</td>\n",
       "      <td>3POLC</td>\n",
       "    </tr>\n",
       "    <tr>\n",
       "      <td>7</td>\n",
       "      <td>2019-02-01 00:29:15</td>\n",
       "      <td>LC3A01</td>\n",
       "      <td>TL6</td>\n",
       "      <td>N0OTG</td>\n",
       "    </tr>\n",
       "    <tr>\n",
       "      <td>8</td>\n",
       "      <td>2019-02-01 00:32:43</td>\n",
       "      <td>LC36FC</td>\n",
       "      <td>TL6</td>\n",
       "      <td>N0OTG</td>\n",
       "    </tr>\n",
       "    <tr>\n",
       "      <td>9</td>\n",
       "      <td>2019-02-01 00:35:30</td>\n",
       "      <td>LC3D80</td>\n",
       "      <td>TL6</td>\n",
       "      <td>N0OTG</td>\n",
       "    </tr>\n",
       "  </tbody>\n",
       "</table>\n",
       "</div>"
      ],
      "text/plain": [
       "                    ts user_id country_id site_id\n",
       "0  2019-02-01 00:01:24  LC36FC        TL6   N0OTG\n",
       "1  2019-02-01 00:10:19  LC39B6        TL6   N0OTG\n",
       "2  2019-02-01 00:21:50  LC3500        TL6   N0OTG\n",
       "3  2019-02-01 00:22:50  LC374F        TL6   N0OTG\n",
       "4  2019-02-01 00:23:44  LCC1C3        TL6   QGO3G\n",
       "5  2019-02-01 00:24:21  LC3E1D        HVQ   GVOFK\n",
       "6  2019-02-01 00:25:29  LC3561        TL6   3POLC\n",
       "7  2019-02-01 00:29:15  LC3A01        TL6   N0OTG\n",
       "8  2019-02-01 00:32:43  LC36FC        TL6   N0OTG\n",
       "9  2019-02-01 00:35:30  LC3D80        TL6   N0OTG"
      ]
     },
     "execution_count": 100,
     "metadata": {},
     "output_type": "execute_result"
    }
   ],
   "source": [
    "#print dataframe\n",
    "df.head(10)"
   ]
  },
  {
   "cell_type": "code",
   "execution_count": 101,
   "metadata": {},
   "outputs": [],
   "source": [
    "#convert the ts column type as datetime\n",
    "df['ts'] = df['ts'].astype('datetime64[ns]')"
   ]
  },
  {
   "cell_type": "code",
   "execution_count": 102,
   "metadata": {},
   "outputs": [
    {
     "name": "stdout",
     "output_type": "stream",
     "text": [
      "<class 'pandas.core.frame.DataFrame'>\n",
      "RangeIndex: 3553 entries, 0 to 3552\n",
      "Data columns (total 4 columns):\n",
      "ts            3553 non-null datetime64[ns]\n",
      "user_id       3553 non-null object\n",
      "country_id    3553 non-null object\n",
      "site_id       3553 non-null object\n",
      "dtypes: datetime64[ns](1), object(3)\n",
      "memory usage: 111.2+ KB\n"
     ]
    }
   ],
   "source": [
    "#Check the information of the dataframe\n",
    "df.info()"
   ]
  },
  {
   "cell_type": "code",
   "execution_count": 103,
   "metadata": {},
   "outputs": [],
   "source": [
    "#Q1.1\n",
    "#Consider only the rows with country_id = \"BDV\" (there are 844 such rows). \n",
    "#For each site_id, we can compute the number of unique user_id's found in these 844 rows. \n",
    "#Which site_id has the largest number of unique users? And what's the number?"
   ]
  },
  {
   "cell_type": "code",
   "execution_count": 104,
   "metadata": {},
   "outputs": [],
   "source": [
    "#Query the dataframe by country_id\n",
    "df_bdv = df[df['country_id'] == 'BDV']"
   ]
  },
  {
   "cell_type": "code",
   "execution_count": 105,
   "metadata": {},
   "outputs": [
    {
     "data": {
      "text/html": [
       "<div>\n",
       "<style scoped>\n",
       "    .dataframe tbody tr th:only-of-type {\n",
       "        vertical-align: middle;\n",
       "    }\n",
       "\n",
       "    .dataframe tbody tr th {\n",
       "        vertical-align: top;\n",
       "    }\n",
       "\n",
       "    .dataframe thead th {\n",
       "        text-align: right;\n",
       "    }\n",
       "</style>\n",
       "<table border=\"1\" class=\"dataframe\">\n",
       "  <thead>\n",
       "    <tr style=\"text-align: right;\">\n",
       "      <th></th>\n",
       "      <th>ts</th>\n",
       "      <th>user_id</th>\n",
       "      <th>country_id</th>\n",
       "      <th>site_id</th>\n",
       "    </tr>\n",
       "  </thead>\n",
       "  <tbody>\n",
       "    <tr>\n",
       "      <td>13</td>\n",
       "      <td>2019-02-01 00:47:58</td>\n",
       "      <td>LC3C22</td>\n",
       "      <td>BDV</td>\n",
       "      <td>N0OTG</td>\n",
       "    </tr>\n",
       "    <tr>\n",
       "      <td>32</td>\n",
       "      <td>2019-02-01 02:46:15</td>\n",
       "      <td>LC375A</td>\n",
       "      <td>BDV</td>\n",
       "      <td>5NPAU</td>\n",
       "    </tr>\n",
       "    <tr>\n",
       "      <td>87</td>\n",
       "      <td>2019-02-01 06:44:42</td>\n",
       "      <td>LC392E</td>\n",
       "      <td>BDV</td>\n",
       "      <td>N0OTG</td>\n",
       "    </tr>\n",
       "    <tr>\n",
       "      <td>88</td>\n",
       "      <td>2019-02-01 07:36:56</td>\n",
       "      <td>LC3FAE</td>\n",
       "      <td>BDV</td>\n",
       "      <td>5NPAU</td>\n",
       "    </tr>\n",
       "    <tr>\n",
       "      <td>94</td>\n",
       "      <td>2019-02-01 08:58:35</td>\n",
       "      <td>LC3AFF</td>\n",
       "      <td>BDV</td>\n",
       "      <td>3POLC</td>\n",
       "    </tr>\n",
       "    <tr>\n",
       "      <td>95</td>\n",
       "      <td>2019-02-01 09:07:24</td>\n",
       "      <td>LC3B5D</td>\n",
       "      <td>BDV</td>\n",
       "      <td>5NPAU</td>\n",
       "    </tr>\n",
       "    <tr>\n",
       "      <td>107</td>\n",
       "      <td>2019-02-01 10:06:53</td>\n",
       "      <td>LC7C30</td>\n",
       "      <td>BDV</td>\n",
       "      <td>5NPAU</td>\n",
       "    </tr>\n",
       "    <tr>\n",
       "      <td>132</td>\n",
       "      <td>2019-02-01 11:10:37</td>\n",
       "      <td>LC3FBE</td>\n",
       "      <td>BDV</td>\n",
       "      <td>5NPAU</td>\n",
       "    </tr>\n",
       "    <tr>\n",
       "      <td>134</td>\n",
       "      <td>2019-02-01 11:11:54</td>\n",
       "      <td>LCC3DB</td>\n",
       "      <td>BDV</td>\n",
       "      <td>5NPAU</td>\n",
       "    </tr>\n",
       "    <tr>\n",
       "      <td>135</td>\n",
       "      <td>2019-02-01 11:16:47</td>\n",
       "      <td>LC39EE</td>\n",
       "      <td>BDV</td>\n",
       "      <td>5NPAU</td>\n",
       "    </tr>\n",
       "  </tbody>\n",
       "</table>\n",
       "</div>"
      ],
      "text/plain": [
       "                     ts user_id country_id site_id\n",
       "13  2019-02-01 00:47:58  LC3C22        BDV   N0OTG\n",
       "32  2019-02-01 02:46:15  LC375A        BDV   5NPAU\n",
       "87  2019-02-01 06:44:42  LC392E        BDV   N0OTG\n",
       "88  2019-02-01 07:36:56  LC3FAE        BDV   5NPAU\n",
       "94  2019-02-01 08:58:35  LC3AFF        BDV   3POLC\n",
       "95  2019-02-01 09:07:24  LC3B5D        BDV   5NPAU\n",
       "107 2019-02-01 10:06:53  LC7C30        BDV   5NPAU\n",
       "132 2019-02-01 11:10:37  LC3FBE        BDV   5NPAU\n",
       "134 2019-02-01 11:11:54  LCC3DB        BDV   5NPAU\n",
       "135 2019-02-01 11:16:47  LC39EE        BDV   5NPAU"
      ]
     },
     "execution_count": 105,
     "metadata": {},
     "output_type": "execute_result"
    }
   ],
   "source": [
    "#Print out dataframe for BDV\n",
    "df_bdv.head(10)"
   ]
  },
  {
   "cell_type": "code",
   "execution_count": 106,
   "metadata": {},
   "outputs": [
    {
     "data": {
      "text/plain": [
       "['N0OTG', '5NPAU', '3POLC']"
      ]
     },
     "execution_count": 106,
     "metadata": {},
     "output_type": "execute_result"
    }
   ],
   "source": [
    "#Make unique site list from df_bdv\n",
    "site_list = []\n",
    "for site in df_bdv['site_id']:\n",
    "    if site not in site_list:\n",
    "        site_list.append(site)\n",
    "site_list"
   ]
  },
  {
   "cell_type": "code",
   "execution_count": 107,
   "metadata": {},
   "outputs": [
    {
     "name": "stdout",
     "output_type": "stream",
     "text": [
      "[90, 544, 2]\n"
     ]
    }
   ],
   "source": [
    "#count unique users by each site\n",
    "unique_user_list = []\n",
    "count = 0\n",
    "count_list = []\n",
    "\n",
    "for site in site_list:\n",
    "    unique_df = df_bdv[df_bdv['site_id'] == site]\n",
    "    for user in unique_df['user_id']:\n",
    "        if user not in unique_user_list:\n",
    "            unique_user_list.append(user)\n",
    "    count_list.append(len(unique_user_list))\n",
    "    unique_user_list = []\n",
    "print(count_list)"
   ]
  },
  {
   "cell_type": "code",
   "execution_count": 108,
   "metadata": {},
   "outputs": [],
   "source": [
    "#Q1.2\n",
    "#Between 2019-02-03 00:00:00 and 2019-02-04 23:59:59, there are four users who visited a certain site more than 10 times. \n",
    "#Find these four users & which sites they (each) visited more than 10 times. \n",
    "#(Simply provides four triples in the form (user_id, site_id, number of visits) in the box below.)"
   ]
  },
  {
   "cell_type": "code",
   "execution_count": 109,
   "metadata": {},
   "outputs": [
    {
     "data": {
      "text/html": [
       "<div>\n",
       "<style scoped>\n",
       "    .dataframe tbody tr th:only-of-type {\n",
       "        vertical-align: middle;\n",
       "    }\n",
       "\n",
       "    .dataframe tbody tr th {\n",
       "        vertical-align: top;\n",
       "    }\n",
       "\n",
       "    .dataframe thead th {\n",
       "        text-align: right;\n",
       "    }\n",
       "</style>\n",
       "<table border=\"1\" class=\"dataframe\">\n",
       "  <thead>\n",
       "    <tr style=\"text-align: right;\">\n",
       "      <th></th>\n",
       "      <th>ts</th>\n",
       "      <th>user_id</th>\n",
       "      <th>country_id</th>\n",
       "      <th>site_id</th>\n",
       "    </tr>\n",
       "  </thead>\n",
       "  <tbody>\n",
       "    <tr>\n",
       "      <td>1049</td>\n",
       "      <td>2019-02-03 00:02:31</td>\n",
       "      <td>LC3C7E</td>\n",
       "      <td>TL6</td>\n",
       "      <td>3POLC</td>\n",
       "    </tr>\n",
       "    <tr>\n",
       "      <td>1050</td>\n",
       "      <td>2019-02-03 00:03:09</td>\n",
       "      <td>LC3C7E</td>\n",
       "      <td>TL6</td>\n",
       "      <td>3POLC</td>\n",
       "    </tr>\n",
       "    <tr>\n",
       "      <td>1051</td>\n",
       "      <td>2019-02-03 00:03:46</td>\n",
       "      <td>LC3C7E</td>\n",
       "      <td>TL6</td>\n",
       "      <td>3POLC</td>\n",
       "    </tr>\n",
       "    <tr>\n",
       "      <td>1052</td>\n",
       "      <td>2019-02-03 00:04:12</td>\n",
       "      <td>LC3C7E</td>\n",
       "      <td>TL6</td>\n",
       "      <td>3POLC</td>\n",
       "    </tr>\n",
       "    <tr>\n",
       "      <td>1053</td>\n",
       "      <td>2019-02-03 00:04:25</td>\n",
       "      <td>LC3C7E</td>\n",
       "      <td>TL6</td>\n",
       "      <td>3POLC</td>\n",
       "    </tr>\n",
       "    <tr>\n",
       "      <td>1054</td>\n",
       "      <td>2019-02-03 00:04:40</td>\n",
       "      <td>LC3C7E</td>\n",
       "      <td>TL6</td>\n",
       "      <td>3POLC</td>\n",
       "    </tr>\n",
       "    <tr>\n",
       "      <td>1055</td>\n",
       "      <td>2019-02-03 00:05:00</td>\n",
       "      <td>LC3C7E</td>\n",
       "      <td>TL6</td>\n",
       "      <td>3POLC</td>\n",
       "    </tr>\n",
       "    <tr>\n",
       "      <td>1056</td>\n",
       "      <td>2019-02-03 00:05:18</td>\n",
       "      <td>LC399D</td>\n",
       "      <td>BDV</td>\n",
       "      <td>N0OTG</td>\n",
       "    </tr>\n",
       "    <tr>\n",
       "      <td>1057</td>\n",
       "      <td>2019-02-03 00:05:47</td>\n",
       "      <td>LC31A0</td>\n",
       "      <td>XA7</td>\n",
       "      <td>N0OTG</td>\n",
       "    </tr>\n",
       "    <tr>\n",
       "      <td>1058</td>\n",
       "      <td>2019-02-03 00:06:47</td>\n",
       "      <td>LC3C7E</td>\n",
       "      <td>TL6</td>\n",
       "      <td>3POLC</td>\n",
       "    </tr>\n",
       "  </tbody>\n",
       "</table>\n",
       "</div>"
      ],
      "text/plain": [
       "                      ts user_id country_id site_id\n",
       "1049 2019-02-03 00:02:31  LC3C7E        TL6   3POLC\n",
       "1050 2019-02-03 00:03:09  LC3C7E        TL6   3POLC\n",
       "1051 2019-02-03 00:03:46  LC3C7E        TL6   3POLC\n",
       "1052 2019-02-03 00:04:12  LC3C7E        TL6   3POLC\n",
       "1053 2019-02-03 00:04:25  LC3C7E        TL6   3POLC\n",
       "1054 2019-02-03 00:04:40  LC3C7E        TL6   3POLC\n",
       "1055 2019-02-03 00:05:00  LC3C7E        TL6   3POLC\n",
       "1056 2019-02-03 00:05:18  LC399D        BDV   N0OTG\n",
       "1057 2019-02-03 00:05:47  LC31A0        XA7   N0OTG\n",
       "1058 2019-02-03 00:06:47  LC3C7E        TL6   3POLC"
      ]
     },
     "execution_count": 109,
     "metadata": {},
     "output_type": "execute_result"
    }
   ],
   "source": [
    "#Query the dataframe by timeline\n",
    "format = '%Y-%m-%d %H:%M:%S'\n",
    "start_dt = datetime.strptime('2019-02-03 00:00:00', format)\n",
    "end_dt = datetime.strptime('2019-02-04 23:59:59', format)\n",
    "tf_df = df[(df['ts'] >= start_dt) & (df['ts'] <= end_dt)]\n",
    "tf_df.head(10)"
   ]
  },
  {
   "cell_type": "code",
   "execution_count": 110,
   "metadata": {},
   "outputs": [
    {
     "name": "stdout",
     "output_type": "stream",
     "text": [
      "708\n"
     ]
    }
   ],
   "source": [
    "#collect unique users in tf_df\n",
    "unique_user_list=[]\n",
    "for user in tf_df['user_id']:\n",
    "    if user not in unique_user_list:\n",
    "        unique_user_list.append(user)\n",
    "print(len(unique_user_list))\n"
   ]
  },
  {
   "cell_type": "code",
   "execution_count": 111,
   "metadata": {
    "scrolled": true
   },
   "outputs": [
    {
     "data": {
      "text/html": [
       "<div>\n",
       "<style scoped>\n",
       "    .dataframe tbody tr th:only-of-type {\n",
       "        vertical-align: middle;\n",
       "    }\n",
       "\n",
       "    .dataframe tbody tr th {\n",
       "        vertical-align: top;\n",
       "    }\n",
       "\n",
       "    .dataframe thead th {\n",
       "        text-align: right;\n",
       "    }\n",
       "</style>\n",
       "<table border=\"1\" class=\"dataframe\">\n",
       "  <thead>\n",
       "    <tr style=\"text-align: right;\">\n",
       "      <th></th>\n",
       "      <th></th>\n",
       "      <th>country_id</th>\n",
       "      <th>ts</th>\n",
       "    </tr>\n",
       "    <tr>\n",
       "      <th>user_id</th>\n",
       "      <th>site_id</th>\n",
       "      <th></th>\n",
       "      <th></th>\n",
       "    </tr>\n",
       "  </thead>\n",
       "  <tbody>\n",
       "    <tr>\n",
       "      <td>LC06C3</td>\n",
       "      <td>N0OTG</td>\n",
       "      <td>25</td>\n",
       "      <td>25</td>\n",
       "    </tr>\n",
       "    <tr>\n",
       "      <td>LC3A59</td>\n",
       "      <td>N0OTG</td>\n",
       "      <td>26</td>\n",
       "      <td>26</td>\n",
       "    </tr>\n",
       "    <tr>\n",
       "      <td>LC3C7E</td>\n",
       "      <td>3POLC</td>\n",
       "      <td>15</td>\n",
       "      <td>15</td>\n",
       "    </tr>\n",
       "    <tr>\n",
       "      <td>LC3C9D</td>\n",
       "      <td>N0OTG</td>\n",
       "      <td>17</td>\n",
       "      <td>17</td>\n",
       "    </tr>\n",
       "  </tbody>\n",
       "</table>\n",
       "</div>"
      ],
      "text/plain": [
       "                 country_id  ts\n",
       "user_id site_id                \n",
       "LC06C3  N0OTG            25  25\n",
       "LC3A59  N0OTG            26  26\n",
       "LC3C7E  3POLC            15  15\n",
       "LC3C9D  N0OTG            17  17"
      ]
     },
     "execution_count": 111,
     "metadata": {},
     "output_type": "execute_result"
    }
   ],
   "source": [
    "#Find duplicated rows from ts_df\n",
    "duplicate = tf_df.pivot_table(index = ['user_id', 'site_id'], aggfunc='count')\n",
    "#Filter the number of duplicated rows that is more than 10. \n",
    "duplicate = duplicate[duplicate[\"country_id\"] >= 10]\n",
    "duplicate"
   ]
  },
  {
   "cell_type": "code",
   "execution_count": 112,
   "metadata": {},
   "outputs": [],
   "source": [
    "#Q1.3\n",
    "#For each site, compute the unique number of users whose last visit (found in the original data set) was to that site. \n",
    "#For instance, user \"LC3561\"'s last visit is to \"N0OTG\" based on timestamp data. \n",
    "#Based on this measure, what are top three sites? \n",
    "#(hint: site \"3POLC\" is ranked at 5th with 28 users whose last visit in the data set was to 3POLC; simply provide three pairs in the form (site_id, number of users).)"
   ]
  },
  {
   "cell_type": "code",
   "execution_count": 113,
   "metadata": {},
   "outputs": [
    {
     "data": {
      "text/plain": [
       "['N0OTG', 'QGO3G', 'GVOFK', '3POLC', '5NPAU', 'RT9Z6', 'JSUUP', 'EUZ/Q']"
      ]
     },
     "execution_count": 113,
     "metadata": {},
     "output_type": "execute_result"
    }
   ],
   "source": [
    "#Collect unique sites from entire dataframe\n",
    "site_list = []\n",
    "for site in df['site_id']:\n",
    "    if site not in site_list:\n",
    "        site_list.append(site)\n",
    "site_list"
   ]
  },
  {
   "cell_type": "code",
   "execution_count": 114,
   "metadata": {},
   "outputs": [
    {
     "name": "stdout",
     "output_type": "stream",
     "text": [
      "1916\n"
     ]
    }
   ],
   "source": [
    "#Collect unique users from entire dataframe\n",
    "unique_user_list=[]\n",
    "for user in df['user_id']:\n",
    "    if user not in unique_user_list:\n",
    "        unique_user_list.append(user)\n",
    "print(len(unique_user_list))"
   ]
  },
  {
   "cell_type": "code",
   "execution_count": 115,
   "metadata": {},
   "outputs": [
    {
     "name": "stdout",
     "output_type": "stream",
     "text": [
      "site: N0OTG = 561\n",
      "\n",
      "site: QGO3G = 289\n",
      "\n",
      "site: GVOFK = 42\n",
      "\n",
      "site: 3POLC = 28\n",
      "\n",
      "site: 5NPAU = 992\n",
      "\n",
      "site: RT9Z6 = 2\n",
      "\n",
      "site: JSUUP = 1\n",
      "\n",
      "site: EUZ/Q = 1\n",
      "\n"
     ]
    }
   ],
   "source": [
    "#Query the dataframe by each user and collect site_id of maximum of index which is the last visit.\n",
    "last_visit_site_list = []\n",
    "for user in unique_user_list:\n",
    "    user_df = df[df['user_id'] == user]\n",
    "    last_visit_site_list.append(user_df['site_id'][max(user_df.index)])\n",
    "\n",
    "for site in site_list:\n",
    "    print(\"site: \" + site + \" = \" + str(last_visit_site_list.count(site)) + \"\\n\")        "
   ]
  },
  {
   "cell_type": "code",
   "execution_count": 116,
   "metadata": {},
   "outputs": [],
   "source": [
    "#Q1.4\n",
    "#For each user, determine the first site he/she visited and the last site he/she visited based on the timestamp data. \n",
    "#Compute the number of users whose first/last visits are to the same website. What is the number?"
   ]
  },
  {
   "cell_type": "code",
   "execution_count": 117,
   "metadata": {},
   "outputs": [
    {
     "name": "stdout",
     "output_type": "stream",
     "text": [
      "1670\n"
     ]
    }
   ],
   "source": [
    "#Query the dataframe by each user\n",
    "#Count the number of cases that site of first visit is same as site of last visit.\n",
    "count = 0\n",
    "for user in unique_user_list:\n",
    "    user_df = df[df['user_id'] == user]\n",
    "    if user_df['site_id'][min(user_df.index)] == user_df['site_id'][max(user_df.index)]:\n",
    "        count = count + 1\n",
    "print(count)"
   ]
  },
  {
   "cell_type": "code",
   "execution_count": null,
   "metadata": {},
   "outputs": [],
   "source": []
  }
 ],
 "metadata": {
  "kernelspec": {
   "display_name": "Python 3",
   "language": "python",
   "name": "python3"
  },
  "language_info": {
   "codemirror_mode": {
    "name": "ipython",
    "version": 3
   },
   "file_extension": ".py",
   "mimetype": "text/x-python",
   "name": "python",
   "nbconvert_exporter": "python",
   "pygments_lexer": "ipython3",
   "version": "3.7.4"
  }
 },
 "nbformat": 4,
 "nbformat_minor": 2
}
