{
 "cells": [
  {
   "cell_type": "code",
   "execution_count": 285,
   "metadata": {},
   "outputs": [],
   "source": [
    "import pandas as pd  \n",
    "import numpy as np  \n",
    "import matplotlib.pyplot as plt  \n",
    "import seaborn as seabornInstance \n",
    "from sklearn.model_selection import train_test_split \n",
    "from sklearn.linear_model import LinearRegression\n",
    "from sklearn import metrics\n",
    "%matplotlib inline"
   ]
  },
  {
   "cell_type": "code",
   "execution_count": 286,
   "metadata": {
    "scrolled": true
   },
   "outputs": [
    {
     "data": {
      "text/html": [
       "<div>\n",
       "<style scoped>\n",
       "    .dataframe tbody tr th:only-of-type {\n",
       "        vertical-align: middle;\n",
       "    }\n",
       "\n",
       "    .dataframe tbody tr th {\n",
       "        vertical-align: top;\n",
       "    }\n",
       "\n",
       "    .dataframe thead th {\n",
       "        text-align: right;\n",
       "    }\n",
       "</style>\n",
       "<table border=\"1\" class=\"dataframe\">\n",
       "  <thead>\n",
       "    <tr style=\"text-align: right;\">\n",
       "      <th></th>\n",
       "      <th>0</th>\n",
       "      <th>1</th>\n",
       "      <th>2</th>\n",
       "    </tr>\n",
       "  </thead>\n",
       "  <tbody>\n",
       "    <tr>\n",
       "      <td>0</td>\n",
       "      <td>0.490142</td>\n",
       "      <td>-0.179654</td>\n",
       "      <td>11.536508</td>\n",
       "    </tr>\n",
       "    <tr>\n",
       "      <td>1</td>\n",
       "      <td>-1.414793</td>\n",
       "      <td>-1.225605</td>\n",
       "      <td>11.828531</td>\n",
       "    </tr>\n",
       "    <tr>\n",
       "      <td>2</td>\n",
       "      <td>0.943066</td>\n",
       "      <td>4.506148</td>\n",
       "      <td>-3.235349</td>\n",
       "    </tr>\n",
       "    <tr>\n",
       "      <td>3</td>\n",
       "      <td>3.569090</td>\n",
       "      <td>5.068347</td>\n",
       "      <td>-23.891922</td>\n",
       "    </tr>\n",
       "    <tr>\n",
       "      <td>4</td>\n",
       "      <td>-1.702460</td>\n",
       "      <td>6.905051</td>\n",
       "      <td>-22.125437</td>\n",
       "    </tr>\n",
       "    <tr>\n",
       "      <td>5</td>\n",
       "      <td>-1.702411</td>\n",
       "      <td>1.126177</td>\n",
       "      <td>1.911102</td>\n",
       "    </tr>\n",
       "    <tr>\n",
       "      <td>6</td>\n",
       "      <td>3.737638</td>\n",
       "      <td>0.720181</td>\n",
       "      <td>11.290391</td>\n",
       "    </tr>\n",
       "    <tr>\n",
       "      <td>7</td>\n",
       "      <td>1.302304</td>\n",
       "      <td>4.764130</td>\n",
       "      <td>-4.919764</td>\n",
       "    </tr>\n",
       "    <tr>\n",
       "      <td>8</td>\n",
       "      <td>-2.408423</td>\n",
       "      <td>0.408035</td>\n",
       "      <td>3.012319</td>\n",
       "    </tr>\n",
       "    <tr>\n",
       "      <td>9</td>\n",
       "      <td>0.627680</td>\n",
       "      <td>6.307573</td>\n",
       "      <td>-8.661391</td>\n",
       "    </tr>\n",
       "  </tbody>\n",
       "</table>\n",
       "</div>"
      ],
      "text/plain": [
       "          0         1          2\n",
       "0  0.490142 -0.179654  11.536508\n",
       "1 -1.414793 -1.225605  11.828531\n",
       "2  0.943066  4.506148  -3.235349\n",
       "3  3.569090  5.068347 -23.891922\n",
       "4 -1.702460  6.905051 -22.125437\n",
       "5 -1.702411  1.126177   1.911102\n",
       "6  3.737638  0.720181  11.290391\n",
       "7  1.302304  4.764130  -4.919764\n",
       "8 -2.408423  0.408035   3.012319\n",
       "9  0.627680  6.307573  -8.661391"
      ]
     },
     "execution_count": 286,
     "metadata": {},
     "output_type": "execute_result"
    }
   ],
   "source": [
    "xls = pd.ExcelFile('Adops & Data Scientist Sample Data.xlsx')\n",
    "df = pd.read_excel(xls, 'Q2 Regression', header = None)\n",
    "df.head(10)"
   ]
  },
  {
   "cell_type": "code",
   "execution_count": 287,
   "metadata": {},
   "outputs": [
    {
     "data": {
      "text/html": [
       "<div>\n",
       "<style scoped>\n",
       "    .dataframe tbody tr th:only-of-type {\n",
       "        vertical-align: middle;\n",
       "    }\n",
       "\n",
       "    .dataframe tbody tr th {\n",
       "        vertical-align: top;\n",
       "    }\n",
       "\n",
       "    .dataframe thead th {\n",
       "        text-align: right;\n",
       "    }\n",
       "</style>\n",
       "<table border=\"1\" class=\"dataframe\">\n",
       "  <thead>\n",
       "    <tr style=\"text-align: right;\">\n",
       "      <th></th>\n",
       "      <th>A</th>\n",
       "      <th>B</th>\n",
       "      <th>C</th>\n",
       "    </tr>\n",
       "  </thead>\n",
       "  <tbody>\n",
       "    <tr>\n",
       "      <td>0</td>\n",
       "      <td>0.490142</td>\n",
       "      <td>-0.179654</td>\n",
       "      <td>11.536508</td>\n",
       "    </tr>\n",
       "    <tr>\n",
       "      <td>1</td>\n",
       "      <td>-1.414793</td>\n",
       "      <td>-1.225605</td>\n",
       "      <td>11.828531</td>\n",
       "    </tr>\n",
       "    <tr>\n",
       "      <td>2</td>\n",
       "      <td>0.943066</td>\n",
       "      <td>4.506148</td>\n",
       "      <td>-3.235349</td>\n",
       "    </tr>\n",
       "    <tr>\n",
       "      <td>3</td>\n",
       "      <td>3.569090</td>\n",
       "      <td>5.068347</td>\n",
       "      <td>-23.891922</td>\n",
       "    </tr>\n",
       "    <tr>\n",
       "      <td>4</td>\n",
       "      <td>-1.702460</td>\n",
       "      <td>6.905051</td>\n",
       "      <td>-22.125437</td>\n",
       "    </tr>\n",
       "    <tr>\n",
       "      <td>5</td>\n",
       "      <td>-1.702411</td>\n",
       "      <td>1.126177</td>\n",
       "      <td>1.911102</td>\n",
       "    </tr>\n",
       "    <tr>\n",
       "      <td>6</td>\n",
       "      <td>3.737638</td>\n",
       "      <td>0.720181</td>\n",
       "      <td>11.290391</td>\n",
       "    </tr>\n",
       "    <tr>\n",
       "      <td>7</td>\n",
       "      <td>1.302304</td>\n",
       "      <td>4.764130</td>\n",
       "      <td>-4.919764</td>\n",
       "    </tr>\n",
       "    <tr>\n",
       "      <td>8</td>\n",
       "      <td>-2.408423</td>\n",
       "      <td>0.408035</td>\n",
       "      <td>3.012319</td>\n",
       "    </tr>\n",
       "    <tr>\n",
       "      <td>9</td>\n",
       "      <td>0.627680</td>\n",
       "      <td>6.307573</td>\n",
       "      <td>-8.661391</td>\n",
       "    </tr>\n",
       "  </tbody>\n",
       "</table>\n",
       "</div>"
      ],
      "text/plain": [
       "          A         B          C\n",
       "0  0.490142 -0.179654  11.536508\n",
       "1 -1.414793 -1.225605  11.828531\n",
       "2  0.943066  4.506148  -3.235349\n",
       "3  3.569090  5.068347 -23.891922\n",
       "4 -1.702460  6.905051 -22.125437\n",
       "5 -1.702411  1.126177   1.911102\n",
       "6  3.737638  0.720181  11.290391\n",
       "7  1.302304  4.764130  -4.919764\n",
       "8 -2.408423  0.408035   3.012319\n",
       "9  0.627680  6.307573  -8.661391"
      ]
     },
     "execution_count": 287,
     "metadata": {},
     "output_type": "execute_result"
    }
   ],
   "source": [
    "df.columns = ['A','B','C']\n",
    "df.head(10)"
   ]
  },
  {
   "cell_type": "code",
   "execution_count": 288,
   "metadata": {},
   "outputs": [
    {
     "data": {
      "text/plain": [
       "array([ 1.15365083e+01,  1.18285306e+01, -3.23534931e+00, -2.38919224e+01,\n",
       "       -2.21254371e+01,  1.91110178e+00,  1.12903913e+01, -4.91976400e+00,\n",
       "        3.01231897e+00, -8.66139082e+00, -2.42944440e+01, -1.62927063e+00,\n",
       "       -4.20987858e+00, -9.97072376e+01,  3.35824190e+01, -3.08501835e+01,\n",
       "       -1.76247407e+01, -5.91515312e+00,  8.38130614e-01, -8.36689858e+01,\n",
       "        1.00005619e+01,  1.85743726e+01, -1.12960826e+01,  2.89365769e+01,\n",
       "        3.61865331e+00, -1.19939467e+01, -7.00278264e+01,  2.03340776e+00,\n",
       "       -1.59796176e+01, -2.91228900e-01,  4.80712037e+00,  1.58728799e+01,\n",
       "       -4.86973297e+00, -4.34299661e+01, -6.04743678e+00, -5.65892283e+01,\n",
       "        1.56334432e+01, -4.63911103e+01,  3.13987205e+01,  1.52800092e+00,\n",
       "        7.34861312e+00, -9.15795121e+00,  5.40918573e+00,  1.43321512e+01,\n",
       "        2.23945900e+01, -2.85927776e+01, -1.15320458e+01,  2.40597494e+01,\n",
       "        1.65393318e+01, -7.80454825e+01,  1.67623117e+01, -1.96626517e+01,\n",
       "       -2.31750346e+01,  1.88394259e+01,  2.44110620e+01, -1.58495456e+01,\n",
       "       -2.93950597e+00,  2.97549982e+00, -5.39648564e+00, -1.51743218e+01,\n",
       "       -3.17585982e+01, -1.11115805e+01, -6.61592822e+00,  2.55516980e+01,\n",
       "       -5.38358804e+00, -1.34828362e+00,  3.10652112e+00, -1.39742048e+01,\n",
       "        1.58393432e+01, -8.28835141e+00,  1.88359556e+01,  3.35636591e+00,\n",
       "        1.62915409e+01,  3.27123464e+01,  5.50423354e+01, -5.45720104e-01,\n",
       "       -5.83307113e+00, -6.37413426e+00, -1.27057345e+01, -2.06902284e+01,\n",
       "        7.26791071e+00, -6.92687619e+00,  2.27627626e+01, -3.23218478e+01,\n",
       "        2.52946303e+01, -3.19245719e+01,  2.43302687e+01, -7.76222798e+00,\n",
       "       -8.11596400e+00, -1.05169936e+01,  1.58230991e+01,  2.50765135e+00,\n",
       "       -4.21217191e+01, -4.16798878e+00, -1.04752487e+01, -5.86521675e+01,\n",
       "        5.13279156e+00, -3.22011908e-01, -1.60138649e+00, -1.84224340e+01,\n",
       "        3.51673800e+01,  6.43681741e+00, -2.42701524e+01, -4.19251795e+01,\n",
       "        9.91678829e-01,  7.62678507e-01,  2.19591842e+01,  1.25053456e+01,\n",
       "        4.60052139e+00,  5.63337864e+00, -6.38153948e+01,  1.55450234e+01,\n",
       "       -1.36812752e+01, -1.09874993e+02, -9.06022976e+00,  2.71780227e+00,\n",
       "        7.45942797e+00, -5.61549938e+01, -5.76074172e+00,  1.74997154e+01,\n",
       "       -1.01889852e+01, -4.21838177e+01, -2.98326615e+01, -5.93269134e+01,\n",
       "        1.39350075e+00,  2.91431621e+00, -5.68469005e+01, -2.88726027e+01,\n",
       "        1.67422124e+01,  2.00861475e+01, -1.33683722e+01, -8.19371159e+00,\n",
       "       -6.71845385e+01,  1.54349960e+01, -2.29583990e+01,  1.05626831e+01,\n",
       "       -4.68650946e+01, -1.85790027e+01, -7.73728727e+00, -1.93047591e+01,\n",
       "        5.87384707e+00,  1.75485114e+01,  3.87002174e+01, -8.28338942e+00,\n",
       "       -5.92734957e+00, -1.33673341e+01, -8.21602307e+01, -3.27356680e+01,\n",
       "       -3.53857277e+00, -9.59174899e+00, -7.12225431e+00,  1.16585682e+01,\n",
       "       -6.16181082e+00,  1.45815715e+01, -9.90126550e+00, -1.75699032e+01,\n",
       "        2.73680061e+01, -5.72202909e-01, -3.53134944e+01,  9.97570150e+00,\n",
       "        1.92286484e+01, -1.17880322e+00,  2.94081199e+00, -3.37380430e+01,\n",
       "        4.02914014e+00, -6.21424440e+00,  3.20908850e+00, -1.14095542e+01,\n",
       "       -1.77246902e+01, -4.02926284e+00,  1.65778901e+01,  2.41350652e+01,\n",
       "       -8.87688666e+00,  4.36912736e-01, -2.50893129e+00,  1.63383431e+01,\n",
       "        1.35913366e+01,  3.81801968e+01,  4.24319561e+00, -4.38361548e+01,\n",
       "        8.70290366e+00, -8.28138166e+00, -5.94372909e+01,  9.40852629e+00,\n",
       "       -2.14874812e+00, -4.74864095e+00,  7.87512146e+00, -4.01238719e+00,\n",
       "       -4.21470063e+01, -1.00444812e+02,  1.32568745e+01, -1.18308146e+01,\n",
       "        3.42275727e+00,  5.52641548e+00,  4.11809105e+00, -1.01552270e+01,\n",
       "       -1.33551576e+01,  8.02640729e+00, -2.56128293e+00,  7.63404886e+00,\n",
       "       -9.99900000e+03,  1.14606284e+02,  1.42858157e+02,  1.26380004e+02,\n",
       "        3.98403829e+01, -4.00385077e+01,  8.71731966e+01,  9.41446323e+00,\n",
       "       -2.52264946e+02, -2.48194614e+02, -1.48327053e+02,  1.17257016e+02,\n",
       "        9.75781735e+01,  1.64059058e+02,  6.40490635e+01,  4.40866728e+01,\n",
       "        4.90150908e+01,  9.09965203e+01,  7.12996037e+01, -3.13065684e+01,\n",
       "        1.39941708e+02,  1.18996093e+01, -7.34939325e+01, -2.04362797e+01,\n",
       "        9.29682687e+01, -2.81045024e+02, -9.22925537e+01,  5.71116723e+01,\n",
       "       -1.01282700e+02, -2.89174093e+02,  7.50922304e+01,  3.86041556e+01,\n",
       "       -1.55942465e+02, -7.83545608e+01,  1.54329356e+02,  7.76177420e+01,\n",
       "        1.13239549e+01, -4.38648411e+01, -4.81574943e+01, -5.77231896e+00,\n",
       "       -1.01440927e+01, -1.20215521e+02,  1.55383323e+02,  6.02096770e+01,\n",
       "       -3.97994889e+01, -1.44102734e+02, -2.97868483e+01, -2.88991879e+01,\n",
       "        2.02022916e+02, -3.55195110e+01, -1.18718616e+01,  6.70231195e+01,\n",
       "        7.07058225e+01, -1.33649656e+01,  4.93740706e+01,  1.94015496e+01,\n",
       "        9.62980984e+01,  1.77273280e+01,  1.13023728e+02, -2.87963053e+02,\n",
       "       -3.17922880e+01, -1.01733434e+02, -7.14783110e+00, -1.19826007e+01,\n",
       "        9.07796391e+01, -1.28071567e+01, -1.92404823e+02, -3.34636068e+01,\n",
       "       -9.65136037e+00,  9.47962399e+01,  4.86550376e+01,  1.19363858e+01,\n",
       "       -1.91233440e+02, -6.83936543e+01,  1.22000612e+01, -2.86055387e+02,\n",
       "       -9.26334798e+01,  3.92961723e+01,  1.01611170e+02,  6.63162237e+01,\n",
       "        4.91622532e+01,  1.03415801e+02,  1.26803279e+02,  2.26864706e+01,\n",
       "        1.64705837e+02, -2.52070206e+01,  9.78636584e+01, -7.92747241e+01,\n",
       "       -1.64087807e+01, -1.35041613e+02,  8.51329082e+01, -3.46355444e-02,\n",
       "       -1.35674738e+02, -2.85565482e+02, -1.95148227e+02,  3.31719513e+01,\n",
       "        1.07953284e+02, -1.26378458e+02, -3.15397489e+02, -9.77003975e+01])"
      ]
     },
     "execution_count": 288,
     "metadata": {},
     "output_type": "execute_result"
    }
   ],
   "source": [
    "X = df[['A','B']].values\n",
    "Y = df['C'].values\n",
    "Y"
   ]
  },
  {
   "cell_type": "code",
   "execution_count": 289,
   "metadata": {},
   "outputs": [
    {
     "data": {
      "image/png": "[encoded data removed]",
      "text/plain": [
       "<Figure size 432x288 with 1 Axes>"
      ]
     },
     "metadata": {
      "needs_background": "light"
     },
     "output_type": "display_data"
    }
   ],
   "source": [
    "#Plot histogram of Y\n",
    "plt.hist(Y, bins = 10)\n",
    "plt.show()\n",
    "#There seems some outliars according to this histogram."
   ]
  },
  {
   "cell_type": "code",
   "execution_count": 290,
   "metadata": {},
   "outputs": [
    {
     "data": {
      "text/plain": [
       "count     300.000000\n",
       "mean      -41.567544\n",
       "std       581.196205\n",
       "min     -9999.000000\n",
       "25%       -23.354257\n",
       "50%        -3.087428\n",
       "75%        16.303241\n",
       "max       202.022916\n",
       "Name: C, dtype: float64"
      ]
     },
     "execution_count": 290,
     "metadata": {},
     "output_type": "execute_result"
    }
   ],
   "source": [
    "#See the description of C columns in the dataframe\n",
    "df['C'].describe()\n",
    "#Maximum value seems reasonable, but minimum value seems not right"
   ]
  },
  {
   "cell_type": "code",
   "execution_count": 291,
   "metadata": {},
   "outputs": [
    {
     "name": "stdout",
     "output_type": "stream",
     "text": [
      "-9999.0\n"
     ]
    }
   ],
   "source": [
    "#Let's find outliars!\n",
    "for i in Y:\n",
    "    if i < -500:\n",
    "        print(i)"
   ]
  },
  {
   "cell_type": "code",
   "execution_count": 292,
   "metadata": {},
   "outputs": [
    {
     "name": "stdout",
     "output_type": "stream",
     "text": [
      "200\n"
     ]
    },
    {
     "data": {
      "text/plain": [
       "-9999.0"
      ]
     },
     "execution_count": 292,
     "metadata": {},
     "output_type": "execute_result"
    }
   ],
   "source": [
    "#Since we found one big outliar, I would choose to remove the outliar\n",
    "for i in range(len(Y)):\n",
    "    if Y[i] < -500:\n",
    "        print(i)\n",
    "#The index of the outliar is 200.\n",
    "df['C'][200]"
   ]
  },
  {
   "cell_type": "code",
   "execution_count": 293,
   "metadata": {},
   "outputs": [
    {
     "data": {
      "text/html": [
       "<div>\n",
       "<style scoped>\n",
       "    .dataframe tbody tr th:only-of-type {\n",
       "        vertical-align: middle;\n",
       "    }\n",
       "\n",
       "    .dataframe tbody tr th {\n",
       "        vertical-align: top;\n",
       "    }\n",
       "\n",
       "    .dataframe thead th {\n",
       "        text-align: right;\n",
       "    }\n",
       "</style>\n",
       "<table border=\"1\" class=\"dataframe\">\n",
       "  <thead>\n",
       "    <tr style=\"text-align: right;\">\n",
       "      <th></th>\n",
       "      <th>A</th>\n",
       "      <th>B</th>\n",
       "      <th>C</th>\n",
       "    </tr>\n",
       "  </thead>\n",
       "  <tbody>\n",
       "    <tr>\n",
       "      <td>count</td>\n",
       "      <td>299.000000</td>\n",
       "      <td>299.000000</td>\n",
       "      <td>299.000000</td>\n",
       "    </tr>\n",
       "    <tr>\n",
       "      <td>mean</td>\n",
       "      <td>2.290746</td>\n",
       "      <td>2.027161</td>\n",
       "      <td>-8.265095</td>\n",
       "    </tr>\n",
       "    <tr>\n",
       "      <td>std</td>\n",
       "      <td>5.686311</td>\n",
       "      <td>2.993469</td>\n",
       "      <td>71.344976</td>\n",
       "    </tr>\n",
       "    <tr>\n",
       "      <td>min</td>\n",
       "      <td>-8.859235</td>\n",
       "      <td>-2.891623</td>\n",
       "      <td>-315.397489</td>\n",
       "    </tr>\n",
       "    <tr>\n",
       "      <td>25%</td>\n",
       "      <td>-1.946911</td>\n",
       "      <td>-0.586919</td>\n",
       "      <td>-23.066717</td>\n",
       "    </tr>\n",
       "    <tr>\n",
       "      <td>50%</td>\n",
       "      <td>0.447417</td>\n",
       "      <td>1.944203</td>\n",
       "      <td>-2.939506</td>\n",
       "    </tr>\n",
       "    <tr>\n",
       "      <td>75%</td>\n",
       "      <td>7.027326</td>\n",
       "      <td>4.706529</td>\n",
       "      <td>16.314942</td>\n",
       "    </tr>\n",
       "    <tr>\n",
       "      <td>max</td>\n",
       "      <td>20.558194</td>\n",
       "      <td>6.997177</td>\n",
       "      <td>202.022916</td>\n",
       "    </tr>\n",
       "  </tbody>\n",
       "</table>\n",
       "</div>"
      ],
      "text/plain": [
       "                A           B           C\n",
       "count  299.000000  299.000000  299.000000\n",
       "mean     2.290746    2.027161   -8.265095\n",
       "std      5.686311    2.993469   71.344976\n",
       "min     -8.859235   -2.891623 -315.397489\n",
       "25%     -1.946911   -0.586919  -23.066717\n",
       "50%      0.447417    1.944203   -2.939506\n",
       "75%      7.027326    4.706529   16.314942\n",
       "max     20.558194    6.997177  202.022916"
      ]
     },
     "execution_count": 293,
     "metadata": {},
     "output_type": "execute_result"
    }
   ],
   "source": [
    "#Delete the 201th row in the dataframe\n",
    "df.drop(index=200, inplace=True)\n",
    "df.describe()"
   ]
  },
  {
   "cell_type": "code",
   "execution_count": 294,
   "metadata": {},
   "outputs": [],
   "source": [
    "#Build X and Y from the dataframe\n",
    "X = df[['A','B']].values\n",
    "Y = df['C'].values"
   ]
  },
  {
   "cell_type": "code",
   "execution_count": 295,
   "metadata": {},
   "outputs": [
    {
     "data": {
      "image/png": "[encoded data removed]",
      "text/plain": [
       "<Figure size 1080x720 with 1 Axes>"
      ]
     },
     "metadata": {
      "needs_background": "light"
     },
     "output_type": "display_data"
    }
   ],
   "source": [
    "#Plot histogram of Y\n",
    "plt.figure(figsize=(15,10))\n",
    "plt.hist(Y, bins = 10)\n",
    "plt.show()\n",
    "#There seems some outliars according to this histogram."
   ]
  },
  {
   "cell_type": "code",
   "execution_count": 296,
   "metadata": {},
   "outputs": [],
   "source": [
    "#def normalize(column):\n",
    "#    upper = column.max()\n",
    "#    lower = column.min()\n",
    "#    y = (column - lower)/(upper-lower)\n",
    "#    return y\n",
    "#Y = normalize(Y)"
   ]
  },
  {
   "cell_type": "code",
   "execution_count": 297,
   "metadata": {},
   "outputs": [
    {
     "data": {
      "text/plain": [
       "<matplotlib.axes._subplots.AxesSubplot at 0x8e95e4be88>"
      ]
     },
     "execution_count": 297,
     "metadata": {},
     "output_type": "execute_result"
    },
    {
     "data": {
      "image/png": "[encoded data removed]",
      "text/plain": [
       "<Figure size 1080x720 with 1 Axes>"
      ]
     },
     "metadata": {
      "needs_background": "light"
     },
     "output_type": "display_data"
    }
   ],
   "source": [
    "plt.figure(figsize=(15,10))\n",
    "plt.tight_layout()\n",
    "seabornInstance.distplot(Y)"
   ]
  },
  {
   "cell_type": "code",
   "execution_count": 298,
   "metadata": {},
   "outputs": [],
   "source": [
    "X_train, X_test, y_train, y_test = train_test_split(X, Y, test_size=0.25, random_state=0)"
   ]
  },
  {
   "cell_type": "code",
   "execution_count": 299,
   "metadata": {},
   "outputs": [
    {
     "data": {
      "text/plain": [
       "LinearRegression(copy_X=True, fit_intercept=True, n_jobs=None, normalize=False)"
      ]
     },
     "execution_count": 299,
     "metadata": {},
     "output_type": "execute_result"
    }
   ],
   "source": [
    "regressor = LinearRegression()  \n",
    "regressor.fit(X_train, y_train)"
   ]
  },
  {
   "cell_type": "code",
   "execution_count": 300,
   "metadata": {},
   "outputs": [],
   "source": [
    "y_pred = regressor.predict(X_test)"
   ]
  },
  {
   "cell_type": "code",
   "execution_count": 301,
   "metadata": {},
   "outputs": [
    {
     "data": {
      "text/html": [
       "<div>\n",
       "<style scoped>\n",
       "    .dataframe tbody tr th:only-of-type {\n",
       "        vertical-align: middle;\n",
       "    }\n",
       "\n",
       "    .dataframe tbody tr th {\n",
       "        vertical-align: top;\n",
       "    }\n",
       "\n",
       "    .dataframe thead th {\n",
       "        text-align: right;\n",
       "    }\n",
       "</style>\n",
       "<table border=\"1\" class=\"dataframe\">\n",
       "  <thead>\n",
       "    <tr style=\"text-align: right;\">\n",
       "      <th></th>\n",
       "      <th>Actual</th>\n",
       "      <th>Predicted</th>\n",
       "    </tr>\n",
       "  </thead>\n",
       "  <tbody>\n",
       "    <tr>\n",
       "      <td>0</td>\n",
       "      <td>9.414463</td>\n",
       "      <td>0.534509</td>\n",
       "    </tr>\n",
       "    <tr>\n",
       "      <td>1</td>\n",
       "      <td>-42.147006</td>\n",
       "      <td>-58.114473</td>\n",
       "    </tr>\n",
       "    <tr>\n",
       "      <td>2</td>\n",
       "      <td>-4.209879</td>\n",
       "      <td>-45.818129</td>\n",
       "    </tr>\n",
       "    <tr>\n",
       "      <td>3</td>\n",
       "      <td>139.941708</td>\n",
       "      <td>13.819661</td>\n",
       "    </tr>\n",
       "    <tr>\n",
       "      <td>4</td>\n",
       "      <td>-48.157494</td>\n",
       "      <td>-36.556908</td>\n",
       "    </tr>\n",
       "    <tr>\n",
       "      <td>5</td>\n",
       "      <td>-46.865095</td>\n",
       "      <td>-75.242772</td>\n",
       "    </tr>\n",
       "    <tr>\n",
       "      <td>6</td>\n",
       "      <td>-289.174093</td>\n",
       "      <td>-90.248610</td>\n",
       "    </tr>\n",
       "    <tr>\n",
       "      <td>7</td>\n",
       "      <td>87.173197</td>\n",
       "      <td>26.155451</td>\n",
       "    </tr>\n",
       "    <tr>\n",
       "      <td>8</td>\n",
       "      <td>-23.175035</td>\n",
       "      <td>-34.490288</td>\n",
       "    </tr>\n",
       "    <tr>\n",
       "      <td>9</td>\n",
       "      <td>4.600521</td>\n",
       "      <td>-0.959571</td>\n",
       "    </tr>\n",
       "    <tr>\n",
       "      <td>10</td>\n",
       "      <td>-120.215521</td>\n",
       "      <td>-59.361396</td>\n",
       "    </tr>\n",
       "    <tr>\n",
       "      <td>11</td>\n",
       "      <td>-30.850183</td>\n",
       "      <td>-65.747959</td>\n",
       "    </tr>\n",
       "    <tr>\n",
       "      <td>12</td>\n",
       "      <td>-2.148748</td>\n",
       "      <td>-6.553819</td>\n",
       "    </tr>\n",
       "    <tr>\n",
       "      <td>13</td>\n",
       "      <td>-28.899188</td>\n",
       "      <td>-23.118863</td>\n",
       "    </tr>\n",
       "    <tr>\n",
       "      <td>14</td>\n",
       "      <td>-11.296083</td>\n",
       "      <td>-69.168744</td>\n",
       "    </tr>\n",
       "    <tr>\n",
       "      <td>15</td>\n",
       "      <td>55.042335</td>\n",
       "      <td>66.809545</td>\n",
       "    </tr>\n",
       "    <tr>\n",
       "      <td>16</td>\n",
       "      <td>48.655038</td>\n",
       "      <td>5.832599</td>\n",
       "    </tr>\n",
       "    <tr>\n",
       "      <td>17</td>\n",
       "      <td>15.823099</td>\n",
       "      <td>60.804956</td>\n",
       "    </tr>\n",
       "    <tr>\n",
       "      <td>18</td>\n",
       "      <td>-101.282700</td>\n",
       "      <td>-76.252914</td>\n",
       "    </tr>\n",
       "    <tr>\n",
       "      <td>19</td>\n",
       "      <td>96.298098</td>\n",
       "      <td>17.973818</td>\n",
       "    </tr>\n",
       "    <tr>\n",
       "      <td>20</td>\n",
       "      <td>13.256875</td>\n",
       "      <td>51.910157</td>\n",
       "    </tr>\n",
       "    <tr>\n",
       "      <td>21</td>\n",
       "      <td>-41.925179</td>\n",
       "      <td>-62.690339</td>\n",
       "    </tr>\n",
       "    <tr>\n",
       "      <td>22</td>\n",
       "      <td>1.393501</td>\n",
       "      <td>-25.942057</td>\n",
       "    </tr>\n",
       "    <tr>\n",
       "      <td>23</td>\n",
       "      <td>20.086147</td>\n",
       "      <td>71.065759</td>\n",
       "    </tr>\n",
       "    <tr>\n",
       "      <td>24</td>\n",
       "      <td>11.899609</td>\n",
       "      <td>8.882869</td>\n",
       "    </tr>\n",
       "  </tbody>\n",
       "</table>\n",
       "</div>"
      ],
      "text/plain": [
       "        Actual  Predicted\n",
       "0     9.414463   0.534509\n",
       "1   -42.147006 -58.114473\n",
       "2    -4.209879 -45.818129\n",
       "3   139.941708  13.819661\n",
       "4   -48.157494 -36.556908\n",
       "5   -46.865095 -75.242772\n",
       "6  -289.174093 -90.248610\n",
       "7    87.173197  26.155451\n",
       "8   -23.175035 -34.490288\n",
       "9     4.600521  -0.959571\n",
       "10 -120.215521 -59.361396\n",
       "11  -30.850183 -65.747959\n",
       "12   -2.148748  -6.553819\n",
       "13  -28.899188 -23.118863\n",
       "14  -11.296083 -69.168744\n",
       "15   55.042335  66.809545\n",
       "16   48.655038   5.832599\n",
       "17   15.823099  60.804956\n",
       "18 -101.282700 -76.252914\n",
       "19   96.298098  17.973818\n",
       "20   13.256875  51.910157\n",
       "21  -41.925179 -62.690339\n",
       "22    1.393501 -25.942057\n",
       "23   20.086147  71.065759\n",
       "24   11.899609   8.882869"
      ]
     },
     "execution_count": 301,
     "metadata": {},
     "output_type": "execute_result"
    }
   ],
   "source": [
    "pred_df = pd.DataFrame({'Actual': y_test, 'Predicted': y_pred})\n",
    "pred_df.head(25)\n",
    "#Linear Regression model does not seem fit in this dataset."
   ]
  },
  {
   "cell_type": "code",
   "execution_count": 302,
   "metadata": {},
   "outputs": [
    {
     "data": {
      "text/plain": [
       "LinearRegression(copy_X=True, fit_intercept=True, n_jobs=None, normalize=False)"
      ]
     },
     "execution_count": 302,
     "metadata": {},
     "output_type": "execute_result"
    }
   ],
   "source": [
    "# Fitting Polynomial Regression to the dataset\n",
    "from sklearn.preprocessing import PolynomialFeatures\n",
    "poly_reg = PolynomialFeatures(degree=4)\n",
    "X_poly_train = poly_reg.fit_transform(X_train)\n",
    "X_poly_test = poly_reg.fit_transform(X_test)\n",
    "pol_reg = LinearRegression()\n",
    "pol_reg.fit(X_poly_train, y_train)"
   ]
  },
  {
   "cell_type": "code",
   "execution_count": 303,
   "metadata": {},
   "outputs": [
    {
     "data": {
      "text/html": [
       "<div>\n",
       "<style scoped>\n",
       "    .dataframe tbody tr th:only-of-type {\n",
       "        vertical-align: middle;\n",
       "    }\n",
       "\n",
       "    .dataframe tbody tr th {\n",
       "        vertical-align: top;\n",
       "    }\n",
       "\n",
       "    .dataframe thead th {\n",
       "        text-align: right;\n",
       "    }\n",
       "</style>\n",
       "<table border=\"1\" class=\"dataframe\">\n",
       "  <thead>\n",
       "    <tr style=\"text-align: right;\">\n",
       "      <th></th>\n",
       "      <th>Coefficient</th>\n",
       "    </tr>\n",
       "  </thead>\n",
       "  <tbody>\n",
       "    <tr>\n",
       "      <td>A^0*B^0</td>\n",
       "      <td>0.000000e+00</td>\n",
       "    </tr>\n",
       "    <tr>\n",
       "      <td>A*1</td>\n",
       "      <td>2.000000e+00</td>\n",
       "    </tr>\n",
       "    <tr>\n",
       "      <td>A*A*1</td>\n",
       "      <td>-2.999999e+00</td>\n",
       "    </tr>\n",
       "    <tr>\n",
       "      <td>A*A*A*1</td>\n",
       "      <td>-4.578326e-08</td>\n",
       "    </tr>\n",
       "    <tr>\n",
       "      <td>A*A*A*A*1</td>\n",
       "      <td>2.191159e-08</td>\n",
       "    </tr>\n",
       "    <tr>\n",
       "      <td>1*B</td>\n",
       "      <td>-9.661832e-08</td>\n",
       "    </tr>\n",
       "    <tr>\n",
       "      <td>A*B</td>\n",
       "      <td>9.454252e-09</td>\n",
       "    </tr>\n",
       "    <tr>\n",
       "      <td>A*A*B</td>\n",
       "      <td>-4.000000e-01</td>\n",
       "    </tr>\n",
       "    <tr>\n",
       "      <td>A*A*A*B</td>\n",
       "      <td>3.026744e-08</td>\n",
       "    </tr>\n",
       "    <tr>\n",
       "      <td>1*B*B</td>\n",
       "      <td>-1.398680e-07</td>\n",
       "    </tr>\n",
       "    <tr>\n",
       "      <td>A*B*B</td>\n",
       "      <td>-3.743417e-10</td>\n",
       "    </tr>\n",
       "    <tr>\n",
       "      <td>A*A*B*B</td>\n",
       "      <td>-3.700928e-10</td>\n",
       "    </tr>\n",
       "    <tr>\n",
       "      <td>1*B*B*B</td>\n",
       "      <td>2.758854e-09</td>\n",
       "    </tr>\n",
       "    <tr>\n",
       "      <td>A*B*B*B</td>\n",
       "      <td>-6.005092e-09</td>\n",
       "    </tr>\n",
       "    <tr>\n",
       "      <td>1*B*B*B*B</td>\n",
       "      <td>1.706756e-08</td>\n",
       "    </tr>\n",
       "  </tbody>\n",
       "</table>\n",
       "</div>"
      ],
      "text/plain": [
       "            Coefficient\n",
       "A^0*B^0    0.000000e+00\n",
       "A*1        2.000000e+00\n",
       "A*A*1     -2.999999e+00\n",
       "A*A*A*1   -4.578326e-08\n",
       "A*A*A*A*1  2.191159e-08\n",
       "1*B       -9.661832e-08\n",
       "A*B        9.454252e-09\n",
       "A*A*B     -4.000000e-01\n",
       "A*A*A*B    3.026744e-08\n",
       "1*B*B     -1.398680e-07\n",
       "A*B*B     -3.743417e-10\n",
       "A*A*B*B   -3.700928e-10\n",
       "1*B*B*B    2.758854e-09\n",
       "A*B*B*B   -6.005092e-09\n",
       "1*B*B*B*B  1.706756e-08"
      ]
     },
     "execution_count": 303,
     "metadata": {},
     "output_type": "execute_result"
    }
   ],
   "source": [
    "#Decribe coeffiecients of Polynomial Regression model.\n",
    "label = ['A^0*B^0','A*1','A*A*1','A*A*A*1','A*A*A*A*1','1*B','A*B','A*A*B','A*A*A*B','1*B*B','A*B*B','A*A*B*B',\n",
    "          '1*B*B*B','A*B*B*B','1*B*B*B*B']\n",
    "coeff_df = pd.DataFrame(pol_reg.coef_,label, columns=['Coefficient'])  \n",
    "coeff_df"
   ]
  },
  {
   "cell_type": "code",
   "execution_count": 304,
   "metadata": {},
   "outputs": [],
   "source": [
    "#Make a prediction of the polynomial regression model\n",
    "y_pred = pol_reg.predict(X_poly_test)"
   ]
  },
  {
   "cell_type": "code",
   "execution_count": 305,
   "metadata": {},
   "outputs": [
    {
     "data": {
      "text/html": [
       "<div>\n",
       "<style scoped>\n",
       "    .dataframe tbody tr th:only-of-type {\n",
       "        vertical-align: middle;\n",
       "    }\n",
       "\n",
       "    .dataframe tbody tr th {\n",
       "        vertical-align: top;\n",
       "    }\n",
       "\n",
       "    .dataframe thead th {\n",
       "        text-align: right;\n",
       "    }\n",
       "</style>\n",
       "<table border=\"1\" class=\"dataframe\">\n",
       "  <thead>\n",
       "    <tr style=\"text-align: right;\">\n",
       "      <th></th>\n",
       "      <th>Actual</th>\n",
       "      <th>Predicted</th>\n",
       "    </tr>\n",
       "  </thead>\n",
       "  <tbody>\n",
       "    <tr>\n",
       "      <td>0</td>\n",
       "      <td>9.414463</td>\n",
       "      <td>9.414463</td>\n",
       "    </tr>\n",
       "    <tr>\n",
       "      <td>1</td>\n",
       "      <td>-42.147006</td>\n",
       "      <td>-42.147014</td>\n",
       "    </tr>\n",
       "    <tr>\n",
       "      <td>2</td>\n",
       "      <td>-4.209879</td>\n",
       "      <td>-4.209869</td>\n",
       "    </tr>\n",
       "    <tr>\n",
       "      <td>3</td>\n",
       "      <td>139.941708</td>\n",
       "      <td>139.941698</td>\n",
       "    </tr>\n",
       "    <tr>\n",
       "      <td>4</td>\n",
       "      <td>-48.157494</td>\n",
       "      <td>-48.157497</td>\n",
       "    </tr>\n",
       "    <tr>\n",
       "      <td>5</td>\n",
       "      <td>-46.865095</td>\n",
       "      <td>-46.865098</td>\n",
       "    </tr>\n",
       "    <tr>\n",
       "      <td>6</td>\n",
       "      <td>-289.174093</td>\n",
       "      <td>-289.174099</td>\n",
       "    </tr>\n",
       "    <tr>\n",
       "      <td>7</td>\n",
       "      <td>87.173197</td>\n",
       "      <td>87.173197</td>\n",
       "    </tr>\n",
       "    <tr>\n",
       "      <td>8</td>\n",
       "      <td>-23.175035</td>\n",
       "      <td>-23.175020</td>\n",
       "    </tr>\n",
       "    <tr>\n",
       "      <td>9</td>\n",
       "      <td>4.600521</td>\n",
       "      <td>4.600509</td>\n",
       "    </tr>\n",
       "    <tr>\n",
       "      <td>10</td>\n",
       "      <td>-120.215521</td>\n",
       "      <td>-120.215490</td>\n",
       "    </tr>\n",
       "    <tr>\n",
       "      <td>11</td>\n",
       "      <td>-30.850183</td>\n",
       "      <td>-30.850188</td>\n",
       "    </tr>\n",
       "    <tr>\n",
       "      <td>12</td>\n",
       "      <td>-2.148748</td>\n",
       "      <td>-2.148750</td>\n",
       "    </tr>\n",
       "    <tr>\n",
       "      <td>13</td>\n",
       "      <td>-28.899188</td>\n",
       "      <td>-28.899201</td>\n",
       "    </tr>\n",
       "    <tr>\n",
       "      <td>14</td>\n",
       "      <td>-11.296083</td>\n",
       "      <td>-11.296073</td>\n",
       "    </tr>\n",
       "    <tr>\n",
       "      <td>15</td>\n",
       "      <td>55.042335</td>\n",
       "      <td>55.042309</td>\n",
       "    </tr>\n",
       "    <tr>\n",
       "      <td>16</td>\n",
       "      <td>48.655038</td>\n",
       "      <td>48.655039</td>\n",
       "    </tr>\n",
       "    <tr>\n",
       "      <td>17</td>\n",
       "      <td>15.823099</td>\n",
       "      <td>15.823104</td>\n",
       "    </tr>\n",
       "    <tr>\n",
       "      <td>18</td>\n",
       "      <td>-101.282700</td>\n",
       "      <td>-101.282715</td>\n",
       "    </tr>\n",
       "    <tr>\n",
       "      <td>19</td>\n",
       "      <td>96.298098</td>\n",
       "      <td>96.298112</td>\n",
       "    </tr>\n",
       "    <tr>\n",
       "      <td>20</td>\n",
       "      <td>13.256875</td>\n",
       "      <td>13.256862</td>\n",
       "    </tr>\n",
       "    <tr>\n",
       "      <td>21</td>\n",
       "      <td>-41.925179</td>\n",
       "      <td>-41.925172</td>\n",
       "    </tr>\n",
       "    <tr>\n",
       "      <td>22</td>\n",
       "      <td>1.393501</td>\n",
       "      <td>1.393485</td>\n",
       "    </tr>\n",
       "    <tr>\n",
       "      <td>23</td>\n",
       "      <td>20.086147</td>\n",
       "      <td>20.086147</td>\n",
       "    </tr>\n",
       "    <tr>\n",
       "      <td>24</td>\n",
       "      <td>11.899609</td>\n",
       "      <td>11.899614</td>\n",
       "    </tr>\n",
       "  </tbody>\n",
       "</table>\n",
       "</div>"
      ],
      "text/plain": [
       "        Actual   Predicted\n",
       "0     9.414463    9.414463\n",
       "1   -42.147006  -42.147014\n",
       "2    -4.209879   -4.209869\n",
       "3   139.941708  139.941698\n",
       "4   -48.157494  -48.157497\n",
       "5   -46.865095  -46.865098\n",
       "6  -289.174093 -289.174099\n",
       "7    87.173197   87.173197\n",
       "8   -23.175035  -23.175020\n",
       "9     4.600521    4.600509\n",
       "10 -120.215521 -120.215490\n",
       "11  -30.850183  -30.850188\n",
       "12   -2.148748   -2.148750\n",
       "13  -28.899188  -28.899201\n",
       "14  -11.296083  -11.296073\n",
       "15   55.042335   55.042309\n",
       "16   48.655038   48.655039\n",
       "17   15.823099   15.823104\n",
       "18 -101.282700 -101.282715\n",
       "19   96.298098   96.298112\n",
       "20   13.256875   13.256862\n",
       "21  -41.925179  -41.925172\n",
       "22    1.393501    1.393485\n",
       "23   20.086147   20.086147\n",
       "24   11.899609   11.899614"
      ]
     },
     "execution_count": 305,
     "metadata": {},
     "output_type": "execute_result"
    }
   ],
   "source": [
    "#Compare actual values and predicted values\n",
    "pred_df = pd.DataFrame({'Actual': y_test, 'Predicted': y_pred})\n",
    "pred_df.head(25)"
   ]
  },
  {
   "cell_type": "code",
   "execution_count": 306,
   "metadata": {},
   "outputs": [
    {
     "name": "stdout",
     "output_type": "stream",
     "text": [
      "Mean Absolute Error: 8.217946483809098e-06\n",
      "Mean Squared Error: 1.1893926633428908e-10\n",
      "Root Mean Squared Error: 1.0905928036361191e-05\n"
     ]
    }
   ],
   "source": [
    "#Check out the errors to see if the model fits the dataset.\n",
    "print('Mean Absolute Error:', metrics.mean_absolute_error(y_test, y_pred))  \n",
    "print('Mean Squared Error:', metrics.mean_squared_error(y_test, y_pred))  \n",
    "print('Root Mean Squared Error:', np.sqrt(metrics.mean_squared_error(y_test, y_pred)))"
   ]
  },
  {
   "cell_type": "code",
   "execution_count": 307,
   "metadata": {},
   "outputs": [
    {
     "data": {
      "image/png": "[encoded data removed]",
      "text/plain": [
       "<Figure size 1080x720 with 1 Axes>"
      ]
     },
     "metadata": {
      "needs_background": "light"
     },
     "output_type": "display_data"
    }
   ],
   "source": [
    "#Plot actual values and predicted values\n",
    "plt.figure(figsize=(15,10))\n",
    "plt.scatter(y_pred, y_test, alpha=0.3)\n",
    "plt.xlabel(\"Predicted values\")\n",
    "plt.ylabel(\"Actual values\")\n",
    "plt.grid(linewidth=\"1\", color=\"white\")\n",
    "plt.show()"
   ]
  }
 ],
 "metadata": {
  "kernelspec": {
   "display_name": "Python 3",
   "language": "python",
   "name": "python3"
  },
  "language_info": {
   "codemirror_mode": {
    "name": "ipython",
    "version": 3
   },
   "file_extension": ".py",
   "mimetype": "text/x-python",
   "name": "python",
   "nbconvert_exporter": "python",
   "pygments_lexer": "ipython3",
   "version": "3.7.4"
  }
 },
 "nbformat": 4,
 "nbformat_minor": 2
}
